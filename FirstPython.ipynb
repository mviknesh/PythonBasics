{
  "nbformat": 4,
  "nbformat_minor": 0,
  "metadata": {
    "colab": {
      "name": "FirstPython.ipynb",
      "provenance": [],
      "authorship_tag": "ABX9TyO96gHyJbYJplZKh/HWR8Sa",
      "include_colab_link": true
    },
    "kernelspec": {
      "name": "python3",
      "display_name": "Python 3"
    }
  },
  "cells": [
    {
      "cell_type": "markdown",
      "metadata": {
        "id": "view-in-github",
        "colab_type": "text"
      },
      "source": [
        "<a href=\"https://colab.research.google.com/github/mviknesh/PythonBasics/blob/main/FirstPython.ipynb\" target=\"_parent\"><img src=\"https://colab.research.google.com/assets/colab-badge.svg\" alt=\"Open In Colab\"/></a>"
      ]
    },
    {
      "cell_type": "code",
      "metadata": {
        "colab": {
          "base_uri": "https://localhost:8080/"
        },
        "id": "C_ngwFaEwEck",
        "outputId": "89ad9c7e-ab40-4480-8fb9-fb45d015d44d"
      },
      "source": [
        "print('Hello')\r\n",
        "x= \"Hello Python\"\r\n",
        "print(x[:6])\r\n",
        "\r\n",
        "print(x[6:])\r\n",
        "print(x[:-6])\r\n",
        "print(x[0:])\r\n",
        "print(x[::2])"
      ],
      "execution_count": 14,
      "outputs": [
        {
          "output_type": "stream",
          "text": [
            "Hello\n",
            "Hello \n",
            "Python\n",
            "Hello \n",
            "Hello Python\n",
            "HloPto\n"
          ],
          "name": "stdout"
        }
      ]
    }
  ]
}